{
 "cells": [
  {
   "cell_type": "code",
   "execution_count": 1,
   "metadata": {
    "collapsed": true
   },
   "outputs": [],
   "source": [
    "import pandas as pd\n",
    "import re"
   ]
  },
  {
   "cell_type": "code",
   "execution_count": 2,
   "metadata": {
    "collapsed": true
   },
   "outputs": [],
   "source": [
    "#import census tract household income 2015 data\n",
    "#subset Vancouver data\n",
    "household_income = pd.read_csv(\".../census_tract_median_income_households_2015.csv\")\n",
    "vancouver_household_income = household_income[household_income['Location'].str.contains('Vancouver')]\n",
    "vancouver_household_income = vancouver_household_income.reset_index(drop=True)\n",
    "\n",
    "#subset and make separate col for census tract codes\n",
    "CT = re.findall(\"0\\d{3}\\.\\d{2}\",''.join(vancouver_household_income['Location'].tolist()))\n",
    "vancouver_household_income['CT'] = CT\n",
    "\n",
    "#import census tract shapefile \n",
    "#subset BC data \n",
    "census_tract_shp = pd.read_csv(\".../census_tract_shp.csv\")\n",
    "bc_census_tract_shp = census_tract_shp[census_tract_shp['prname'].str.contains(\"British Columbia / Colombie-Britannique\", flags=re.IGNORECASE)]\n",
    "bc_census_tract_shp = bc_census_tract_shp.reset_index(drop=True)\n",
    "\n",
    "#shapefile ct digits to match CT code dataset\n",
    "ctname = bc_census_tract_shp['ctname'].tolist()\n",
    "padding= []\n",
    "for i in ctname:\n",
    "    ii = format(i, '.2f')\n",
    "    padding.append(ii)\n",
    "    \n",
    "padded = []\n",
    "for i in padding:\n",
    "    iii = i.zfill(7)\n",
    "    padded.append(iii)\n",
    "\n",
    "#make new col in shapefile data for new padded ct\n",
    "bc_census_tract_shp['CT'] = padded"
   ]
  },
  {
   "cell_type": "code",
   "execution_count": 4,
   "metadata": {},
   "outputs": [
    {
     "data": {
      "text/plain": [
       "711"
      ]
     },
     "execution_count": 4,
     "metadata": {},
     "output_type": "execute_result"
    }
   ],
   "source": [
    "len(bc_census_tract_shp)"
   ]
  },
  {
   "cell_type": "code",
   "execution_count": 5,
   "metadata": {
    "collapsed": true
   },
   "outputs": [],
   "source": [
    "#merge shapefile with income dataset \n",
    "combined = bc_census_tract_shp.merge(vancouver_household_income, on=\"CT\", how=\"inner\")\n",
    "\n",
    "cols = [\"the_geom\", \"ctuid\", \"ctname\", \"cmauid\", \"cmaname\", \"cmapuid\", \"CT\", \"Median total income of households in 2015 ($)\"]\n",
    "combined = combined[cols]"
   ]
  },
  {
   "cell_type": "code",
   "execution_count": 7,
   "metadata": {},
   "outputs": [
    {
     "data": {
      "text/html": [
       "<div>\n",
       "<style scoped>\n",
       "    .dataframe tbody tr th:only-of-type {\n",
       "        vertical-align: middle;\n",
       "    }\n",
       "\n",
       "    .dataframe tbody tr th {\n",
       "        vertical-align: top;\n",
       "    }\n",
       "\n",
       "    .dataframe thead th {\n",
       "        text-align: right;\n",
       "    }\n",
       "</style>\n",
       "<table border=\"1\" class=\"dataframe\">\n",
       "  <thead>\n",
       "    <tr style=\"text-align: right;\">\n",
       "      <th></th>\n",
       "      <th>the_geom</th>\n",
       "      <th>ctuid</th>\n",
       "      <th>ctname</th>\n",
       "      <th>cmauid</th>\n",
       "      <th>cmaname</th>\n",
       "      <th>cmapuid</th>\n",
       "      <th>CT</th>\n",
       "      <th>Median total income of households in 2015 ($)</th>\n",
       "    </tr>\n",
       "  </thead>\n",
       "  <tbody>\n",
       "    <tr>\n",
       "      <th>0</th>\n",
       "      <td>0106000020E61000000100000001030000000100000019...</td>\n",
       "      <td>9330144.05</td>\n",
       "      <td>144.05</td>\n",
       "      <td>933</td>\n",
       "      <td>Vancouver</td>\n",
       "      <td>59933</td>\n",
       "      <td>0144.05</td>\n",
       "      <td>69056.0</td>\n",
       "    </tr>\n",
       "    <tr>\n",
       "      <th>1</th>\n",
       "      <td>0106000020E6100000010000000103000000010000009B...</td>\n",
       "      <td>9250021.00</td>\n",
       "      <td>21.00</td>\n",
       "      <td>925</td>\n",
       "      <td>Kamloops</td>\n",
       "      <td>59925</td>\n",
       "      <td>0021.00</td>\n",
       "      <td>143155.0</td>\n",
       "    </tr>\n",
       "    <tr>\n",
       "      <th>2</th>\n",
       "      <td>0106000020E610000001000000010300000001000000C8...</td>\n",
       "      <td>9700021.00</td>\n",
       "      <td>21.00</td>\n",
       "      <td>970</td>\n",
       "      <td>Prince George</td>\n",
       "      <td>59970</td>\n",
       "      <td>0021.00</td>\n",
       "      <td>143155.0</td>\n",
       "    </tr>\n",
       "    <tr>\n",
       "      <th>3</th>\n",
       "      <td>0106000020E6100000010000000103000000010000007D...</td>\n",
       "      <td>9330021.00</td>\n",
       "      <td>21.00</td>\n",
       "      <td>933</td>\n",
       "      <td>Vancouver</td>\n",
       "      <td>59933</td>\n",
       "      <td>0021.00</td>\n",
       "      <td>143155.0</td>\n",
       "    </tr>\n",
       "    <tr>\n",
       "      <th>4</th>\n",
       "      <td>0106000020E610000001000000010300000001000000B5...</td>\n",
       "      <td>9300021.00</td>\n",
       "      <td>21.00</td>\n",
       "      <td>930</td>\n",
       "      <td>Chilliwack</td>\n",
       "      <td>59930</td>\n",
       "      <td>0021.00</td>\n",
       "      <td>143155.0</td>\n",
       "    </tr>\n",
       "  </tbody>\n",
       "</table>\n",
       "</div>"
      ],
      "text/plain": [
       "                                            the_geom       ctuid  ctname  \\\n",
       "0  0106000020E61000000100000001030000000100000019...  9330144.05  144.05   \n",
       "1  0106000020E6100000010000000103000000010000009B...  9250021.00   21.00   \n",
       "2  0106000020E610000001000000010300000001000000C8...  9700021.00   21.00   \n",
       "3  0106000020E6100000010000000103000000010000007D...  9330021.00   21.00   \n",
       "4  0106000020E610000001000000010300000001000000B5...  9300021.00   21.00   \n",
       "\n",
       "   cmauid        cmaname  cmapuid       CT  \\\n",
       "0     933      Vancouver    59933  0144.05   \n",
       "1     925       Kamloops    59925  0021.00   \n",
       "2     970  Prince George    59970  0021.00   \n",
       "3     933      Vancouver    59933  0021.00   \n",
       "4     930     Chilliwack    59930  0021.00   \n",
       "\n",
       "   Median total income of households in 2015 ($)  \n",
       "0                                        69056.0  \n",
       "1                                       143155.0  \n",
       "2                                       143155.0  \n",
       "3                                       143155.0  \n",
       "4                                       143155.0  "
      ]
     },
     "execution_count": 7,
     "metadata": {},
     "output_type": "execute_result"
    }
   ],
   "source": [
    "combined.head()"
   ]
  }
 ],
 "metadata": {
  "kernelspec": {
   "display_name": "Python 3",
   "language": "python",
   "name": "python3"
  },
  "language_info": {
   "codemirror_mode": {
    "name": "ipython",
    "version": 3
   },
   "file_extension": ".py",
   "mimetype": "text/x-python",
   "name": "python",
   "nbconvert_exporter": "python",
   "pygments_lexer": "ipython3",
   "version": "3.6.3"
  }
 },
 "nbformat": 4,
 "nbformat_minor": 2
}

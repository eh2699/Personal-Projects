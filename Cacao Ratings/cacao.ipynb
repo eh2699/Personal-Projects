{
 "cells": [
  {
   "cell_type": "code",
   "execution_count": 1,
   "metadata": {
    "collapsed": true
   },
   "outputs": [],
   "source": [
    "import pandas as pd\n",
    "import numpy as np\n",
    "import matplotlib.pyplot as plt\n",
    "%matplotlib inline\n",
    "from plotly.offline import plot, iplot, init_notebook_mode\n",
    "import seaborn as sns\n",
    "\n",
    "pd.set_option('display.max_rows', 500)"
   ]
  },
  {
   "cell_type": "code",
   "execution_count": 2,
   "metadata": {},
   "outputs": [
    {
     "data": {
      "text/html": [
       "<div>\n",
       "<style scoped>\n",
       "    .dataframe tbody tr th:only-of-type {\n",
       "        vertical-align: middle;\n",
       "    }\n",
       "\n",
       "    .dataframe tbody tr th {\n",
       "        vertical-align: top;\n",
       "    }\n",
       "\n",
       "    .dataframe thead th {\n",
       "        text-align: right;\n",
       "    }\n",
       "</style>\n",
       "<table border=\"1\" class=\"dataframe\">\n",
       "  <thead>\n",
       "    <tr style=\"text-align: right;\">\n",
       "      <th></th>\n",
       "      <th>Company \n",
       "(Maker-if known)</th>\n",
       "      <th>Specific Bean Origin\n",
       "or Bar Name</th>\n",
       "      <th>REF</th>\n",
       "      <th>Review\n",
       "Date</th>\n",
       "      <th>Cocoa\n",
       "Percent</th>\n",
       "      <th>Company\n",
       "Location</th>\n",
       "      <th>Rating</th>\n",
       "      <th>Bean\n",
       "Type</th>\n",
       "      <th>Broad Bean\n",
       "Origin</th>\n",
       "    </tr>\n",
       "  </thead>\n",
       "  <tbody>\n",
       "    <tr>\n",
       "      <th>0</th>\n",
       "      <td>A. Morin</td>\n",
       "      <td>Agua Grande</td>\n",
       "      <td>1876</td>\n",
       "      <td>2016</td>\n",
       "      <td>63%</td>\n",
       "      <td>France</td>\n",
       "      <td>3.75</td>\n",
       "      <td></td>\n",
       "      <td>Sao Tome</td>\n",
       "    </tr>\n",
       "    <tr>\n",
       "      <th>1</th>\n",
       "      <td>A. Morin</td>\n",
       "      <td>Kpime</td>\n",
       "      <td>1676</td>\n",
       "      <td>2015</td>\n",
       "      <td>70%</td>\n",
       "      <td>France</td>\n",
       "      <td>2.75</td>\n",
       "      <td></td>\n",
       "      <td>Togo</td>\n",
       "    </tr>\n",
       "    <tr>\n",
       "      <th>2</th>\n",
       "      <td>A. Morin</td>\n",
       "      <td>Atsane</td>\n",
       "      <td>1676</td>\n",
       "      <td>2015</td>\n",
       "      <td>70%</td>\n",
       "      <td>France</td>\n",
       "      <td>3.00</td>\n",
       "      <td></td>\n",
       "      <td>Togo</td>\n",
       "    </tr>\n",
       "    <tr>\n",
       "      <th>3</th>\n",
       "      <td>A. Morin</td>\n",
       "      <td>Akata</td>\n",
       "      <td>1680</td>\n",
       "      <td>2015</td>\n",
       "      <td>70%</td>\n",
       "      <td>France</td>\n",
       "      <td>3.50</td>\n",
       "      <td></td>\n",
       "      <td>Togo</td>\n",
       "    </tr>\n",
       "    <tr>\n",
       "      <th>4</th>\n",
       "      <td>A. Morin</td>\n",
       "      <td>Quilla</td>\n",
       "      <td>1704</td>\n",
       "      <td>2015</td>\n",
       "      <td>70%</td>\n",
       "      <td>France</td>\n",
       "      <td>3.50</td>\n",
       "      <td></td>\n",
       "      <td>Peru</td>\n",
       "    </tr>\n",
       "  </tbody>\n",
       "</table>\n",
       "</div>"
      ],
      "text/plain": [
       "  Company \\n(Maker-if known) Specific Bean Origin\\nor Bar Name   REF  \\\n",
       "0                   A. Morin                       Agua Grande  1876   \n",
       "1                   A. Morin                             Kpime  1676   \n",
       "2                   A. Morin                            Atsane  1676   \n",
       "3                   A. Morin                             Akata  1680   \n",
       "4                   A. Morin                            Quilla  1704   \n",
       "\n",
       "   Review\\nDate Cocoa\\nPercent Company\\nLocation  Rating Bean\\nType  \\\n",
       "0          2016            63%            France    3.75              \n",
       "1          2015            70%            France    2.75              \n",
       "2          2015            70%            France    3.00              \n",
       "3          2015            70%            France    3.50              \n",
       "4          2015            70%            France    3.50              \n",
       "\n",
       "  Broad Bean\\nOrigin  \n",
       "0           Sao Tome  \n",
       "1               Togo  \n",
       "2               Togo  \n",
       "3               Togo  \n",
       "4               Peru  "
      ]
     },
     "execution_count": 2,
     "metadata": {},
     "output_type": "execute_result"
    }
   ],
   "source": [
    "# import data\n",
    "data = pd.read_csv('.../chocolate/data.csv')\n",
    "\n",
    "# explore \n",
    "data.head()"
   ]
  },
  {
   "cell_type": "code",
   "execution_count": 3,
   "metadata": {},
   "outputs": [
    {
     "data": {
      "text/plain": [
       "Company \\n(Maker-if known)            object\n",
       "Specific Bean Origin\\nor Bar Name     object\n",
       "REF                                    int64\n",
       "Review\\nDate                           int64\n",
       "Cocoa\\nPercent                        object\n",
       "Company\\nLocation                     object\n",
       "Rating                               float64\n",
       "Bean\\nType                            object\n",
       "Broad Bean\\nOrigin                    object\n",
       "dtype: object"
      ]
     },
     "execution_count": 3,
     "metadata": {},
     "output_type": "execute_result"
    }
   ],
   "source": [
    "# explore data type\n",
    "data.dtypes"
   ]
  },
  {
   "cell_type": "code",
   "execution_count": 4,
   "metadata": {},
   "outputs": [
    {
     "data": {
      "text/html": [
       "<div>\n",
       "<style scoped>\n",
       "    .dataframe tbody tr th:only-of-type {\n",
       "        vertical-align: middle;\n",
       "    }\n",
       "\n",
       "    .dataframe tbody tr th {\n",
       "        vertical-align: top;\n",
       "    }\n",
       "\n",
       "    .dataframe thead th {\n",
       "        text-align: right;\n",
       "    }\n",
       "</style>\n",
       "<table border=\"1\" class=\"dataframe\">\n",
       "  <thead>\n",
       "    <tr style=\"text-align: right;\">\n",
       "      <th></th>\n",
       "      <th>company</th>\n",
       "      <th>origin_specific</th>\n",
       "      <th>REF</th>\n",
       "      <th>review_date</th>\n",
       "      <th>cocoa_percent</th>\n",
       "      <th>company_location</th>\n",
       "      <th>rating</th>\n",
       "      <th>bean_type</th>\n",
       "      <th>origin_broad</th>\n",
       "    </tr>\n",
       "  </thead>\n",
       "  <tbody>\n",
       "    <tr>\n",
       "      <th>0</th>\n",
       "      <td>A. Morin</td>\n",
       "      <td>Agua Grande</td>\n",
       "      <td>1876</td>\n",
       "      <td>2016</td>\n",
       "      <td>0.63</td>\n",
       "      <td>France</td>\n",
       "      <td>3.75</td>\n",
       "      <td></td>\n",
       "      <td>Sao Tome</td>\n",
       "    </tr>\n",
       "    <tr>\n",
       "      <th>1</th>\n",
       "      <td>A. Morin</td>\n",
       "      <td>Kpime</td>\n",
       "      <td>1676</td>\n",
       "      <td>2015</td>\n",
       "      <td>0.70</td>\n",
       "      <td>France</td>\n",
       "      <td>2.75</td>\n",
       "      <td></td>\n",
       "      <td>Togo</td>\n",
       "    </tr>\n",
       "    <tr>\n",
       "      <th>2</th>\n",
       "      <td>A. Morin</td>\n",
       "      <td>Atsane</td>\n",
       "      <td>1676</td>\n",
       "      <td>2015</td>\n",
       "      <td>0.70</td>\n",
       "      <td>France</td>\n",
       "      <td>3.00</td>\n",
       "      <td></td>\n",
       "      <td>Togo</td>\n",
       "    </tr>\n",
       "    <tr>\n",
       "      <th>3</th>\n",
       "      <td>A. Morin</td>\n",
       "      <td>Akata</td>\n",
       "      <td>1680</td>\n",
       "      <td>2015</td>\n",
       "      <td>0.70</td>\n",
       "      <td>France</td>\n",
       "      <td>3.50</td>\n",
       "      <td></td>\n",
       "      <td>Togo</td>\n",
       "    </tr>\n",
       "    <tr>\n",
       "      <th>4</th>\n",
       "      <td>A. Morin</td>\n",
       "      <td>Quilla</td>\n",
       "      <td>1704</td>\n",
       "      <td>2015</td>\n",
       "      <td>0.70</td>\n",
       "      <td>France</td>\n",
       "      <td>3.50</td>\n",
       "      <td></td>\n",
       "      <td>Peru</td>\n",
       "    </tr>\n",
       "  </tbody>\n",
       "</table>\n",
       "</div>"
      ],
      "text/plain": [
       "    company origin_specific   REF  review_date  cocoa_percent  \\\n",
       "0  A. Morin     Agua Grande  1876         2016           0.63   \n",
       "1  A. Morin           Kpime  1676         2015           0.70   \n",
       "2  A. Morin          Atsane  1676         2015           0.70   \n",
       "3  A. Morin           Akata  1680         2015           0.70   \n",
       "4  A. Morin          Quilla  1704         2015           0.70   \n",
       "\n",
       "  company_location  rating bean_type origin_broad  \n",
       "0           France    3.75               Sao Tome  \n",
       "1           France    2.75                   Togo  \n",
       "2           France    3.00                   Togo  \n",
       "3           France    3.50                   Togo  \n",
       "4           France    3.50                   Peru  "
      ]
     },
     "execution_count": 4,
     "metadata": {},
     "output_type": "execute_result"
    }
   ],
   "source": [
    "# initial clean\n",
    "\n",
    "# rename cols for easier manipuation\n",
    "data.columns = ['company', 'origin_specific', 'REF', 'review_date', 'cocoa_percent', 'company_location', 'rating', 'bean_type', 'origin_broad']\n",
    "\n",
    "# modify data type\n",
    "data['cocoa_percent'] = data['cocoa_percent'].str.replace('%','').astype(float)/100\n",
    "\n",
    "# drop rows with null values\n",
    "data = data.dropna()\n",
    "\n",
    "data.head()"
   ]
  },
  {
   "cell_type": "markdown",
   "metadata": {},
   "source": [
    "## Exploratory Data Analysis"
   ]
  },
  {
   "cell_type": "code",
   "execution_count": 5,
   "metadata": {},
   "outputs": [
    {
     "data": {
      "text/html": [
       "<div>\n",
       "<style scoped>\n",
       "    .dataframe tbody tr th:only-of-type {\n",
       "        vertical-align: middle;\n",
       "    }\n",
       "\n",
       "    .dataframe tbody tr th {\n",
       "        vertical-align: top;\n",
       "    }\n",
       "\n",
       "    .dataframe thead th {\n",
       "        text-align: right;\n",
       "    }\n",
       "</style>\n",
       "<table border=\"1\" class=\"dataframe\">\n",
       "  <thead>\n",
       "    <tr style=\"text-align: right;\">\n",
       "      <th></th>\n",
       "      <th>count</th>\n",
       "      <th>unique</th>\n",
       "      <th>top</th>\n",
       "      <th>freq</th>\n",
       "      <th>mean</th>\n",
       "      <th>std</th>\n",
       "      <th>min</th>\n",
       "      <th>25%</th>\n",
       "      <th>50%</th>\n",
       "      <th>75%</th>\n",
       "      <th>max</th>\n",
       "    </tr>\n",
       "  </thead>\n",
       "  <tbody>\n",
       "    <tr>\n",
       "      <th>company</th>\n",
       "      <td>1793</td>\n",
       "      <td>416</td>\n",
       "      <td>Soma</td>\n",
       "      <td>46</td>\n",
       "      <td>NaN</td>\n",
       "      <td>NaN</td>\n",
       "      <td>NaN</td>\n",
       "      <td>NaN</td>\n",
       "      <td>NaN</td>\n",
       "      <td>NaN</td>\n",
       "      <td>NaN</td>\n",
       "    </tr>\n",
       "    <tr>\n",
       "      <th>origin_specific</th>\n",
       "      <td>1793</td>\n",
       "      <td>1038</td>\n",
       "      <td>Madagascar</td>\n",
       "      <td>56</td>\n",
       "      <td>NaN</td>\n",
       "      <td>NaN</td>\n",
       "      <td>NaN</td>\n",
       "      <td>NaN</td>\n",
       "      <td>NaN</td>\n",
       "      <td>NaN</td>\n",
       "      <td>NaN</td>\n",
       "    </tr>\n",
       "    <tr>\n",
       "      <th>REF</th>\n",
       "      <td>1793</td>\n",
       "      <td>NaN</td>\n",
       "      <td>NaN</td>\n",
       "      <td>NaN</td>\n",
       "      <td>1036.13</td>\n",
       "      <td>553.129</td>\n",
       "      <td>5</td>\n",
       "      <td>576</td>\n",
       "      <td>1073</td>\n",
       "      <td>1502</td>\n",
       "      <td>1952</td>\n",
       "    </tr>\n",
       "    <tr>\n",
       "      <th>review_date</th>\n",
       "      <td>1793</td>\n",
       "      <td>NaN</td>\n",
       "      <td>NaN</td>\n",
       "      <td>NaN</td>\n",
       "      <td>2012.33</td>\n",
       "      <td>2.92867</td>\n",
       "      <td>2006</td>\n",
       "      <td>2010</td>\n",
       "      <td>2013</td>\n",
       "      <td>2015</td>\n",
       "      <td>2017</td>\n",
       "    </tr>\n",
       "    <tr>\n",
       "      <th>cocoa_percent</th>\n",
       "      <td>1793</td>\n",
       "      <td>NaN</td>\n",
       "      <td>NaN</td>\n",
       "      <td>NaN</td>\n",
       "      <td>0.716991</td>\n",
       "      <td>0.0632651</td>\n",
       "      <td>0.42</td>\n",
       "      <td>0.7</td>\n",
       "      <td>0.7</td>\n",
       "      <td>0.75</td>\n",
       "      <td>1</td>\n",
       "    </tr>\n",
       "    <tr>\n",
       "      <th>company_location</th>\n",
       "      <td>1793</td>\n",
       "      <td>60</td>\n",
       "      <td>U.S.A.</td>\n",
       "      <td>763</td>\n",
       "      <td>NaN</td>\n",
       "      <td>NaN</td>\n",
       "      <td>NaN</td>\n",
       "      <td>NaN</td>\n",
       "      <td>NaN</td>\n",
       "      <td>NaN</td>\n",
       "      <td>NaN</td>\n",
       "    </tr>\n",
       "    <tr>\n",
       "      <th>rating</th>\n",
       "      <td>1793</td>\n",
       "      <td>NaN</td>\n",
       "      <td>NaN</td>\n",
       "      <td>NaN</td>\n",
       "      <td>3.18586</td>\n",
       "      <td>0.477668</td>\n",
       "      <td>1</td>\n",
       "      <td>3</td>\n",
       "      <td>3.25</td>\n",
       "      <td>3.5</td>\n",
       "      <td>5</td>\n",
       "    </tr>\n",
       "    <tr>\n",
       "      <th>bean_type</th>\n",
       "      <td>1793</td>\n",
       "      <td>41</td>\n",
       "      <td></td>\n",
       "      <td>887</td>\n",
       "      <td>NaN</td>\n",
       "      <td>NaN</td>\n",
       "      <td>NaN</td>\n",
       "      <td>NaN</td>\n",
       "      <td>NaN</td>\n",
       "      <td>NaN</td>\n",
       "      <td>NaN</td>\n",
       "    </tr>\n",
       "    <tr>\n",
       "      <th>origin_broad</th>\n",
       "      <td>1793</td>\n",
       "      <td>99</td>\n",
       "      <td>Venezuela</td>\n",
       "      <td>214</td>\n",
       "      <td>NaN</td>\n",
       "      <td>NaN</td>\n",
       "      <td>NaN</td>\n",
       "      <td>NaN</td>\n",
       "      <td>NaN</td>\n",
       "      <td>NaN</td>\n",
       "      <td>NaN</td>\n",
       "    </tr>\n",
       "  </tbody>\n",
       "</table>\n",
       "</div>"
      ],
      "text/plain": [
       "                 count unique         top freq      mean        std   min  \\\n",
       "company           1793    416        Soma   46       NaN        NaN   NaN   \n",
       "origin_specific   1793   1038  Madagascar   56       NaN        NaN   NaN   \n",
       "REF               1793    NaN         NaN  NaN   1036.13    553.129     5   \n",
       "review_date       1793    NaN         NaN  NaN   2012.33    2.92867  2006   \n",
       "cocoa_percent     1793    NaN         NaN  NaN  0.716991  0.0632651  0.42   \n",
       "company_location  1793     60      U.S.A.  763       NaN        NaN   NaN   \n",
       "rating            1793    NaN         NaN  NaN   3.18586   0.477668     1   \n",
       "bean_type         1793     41              887       NaN        NaN   NaN   \n",
       "origin_broad      1793     99   Venezuela  214       NaN        NaN   NaN   \n",
       "\n",
       "                   25%   50%   75%   max  \n",
       "company            NaN   NaN   NaN   NaN  \n",
       "origin_specific    NaN   NaN   NaN   NaN  \n",
       "REF                576  1073  1502  1952  \n",
       "review_date       2010  2013  2015  2017  \n",
       "cocoa_percent      0.7   0.7  0.75     1  \n",
       "company_location   NaN   NaN   NaN   NaN  \n",
       "rating               3  3.25   3.5     5  \n",
       "bean_type          NaN   NaN   NaN   NaN  \n",
       "origin_broad       NaN   NaN   NaN   NaN  "
      ]
     },
     "execution_count": 5,
     "metadata": {},
     "output_type": "execute_result"
    }
   ],
   "source": [
    "data.describe(include='all').T"
   ]
  },
  {
   "cell_type": "markdown",
   "metadata": {},
   "source": [
    "The initial look at our data tells us a couple of things. First, most of the chocolates in our dataset have a cocoa percentage of around 70%-75%, and have a rating between 3-3.5. The distribution of the cocoa percentages and product ratings can be better seen through visualization (Figure 1 and 2).\n",
    "\n",
    "As well, the data was compiled with reviews dating from 2006 to 2017, indicating that the information in our dataset is fairly recent and likely up to date. "
   ]
  },
  {
   "cell_type": "markdown",
   "metadata": {},
   "source": [
    "## Data Visualization: Rating & Cocoa Percentage"
   ]
  },
  {
   "cell_type": "code",
   "execution_count": 6,
   "metadata": {},
   "outputs": [
    {
     "data": {
      "image/png": "[encoded data removed]",
      "text/plain": [
       "<matplotlib.figure.Figure at 0x1e198ac78d0>"
      ]
     },
     "metadata": {},
     "output_type": "display_data"
    }
   ],
   "source": [
    "# Distribution of ratings\n",
    "\n",
    "fig, ax = plt.subplots(figsize=(16,3))\n",
    "sns.distplot(data['rating'], ax=ax)\n",
    "ax.set_title('Figure 1: Distribution of Ratings')\n",
    "plt.show()"
   ]
  },
  {
   "cell_type": "markdown",
   "metadata": {},
   "source": [
    "- Most chocolates have a rating that fall between the range of 3 and 3.5\n",
    "- Very few chocolates are rated 1 or 5 \n",
    "- No chocolates were rated 4.5\n",
    "- More chocolates were rated 3 or lower than were rated 4 and higher"
   ]
  },
  {
   "cell_type": "code",
   "execution_count": 7,
   "metadata": {},
   "outputs": [
    {
     "data": {
      "image/png": "[encoded data removed]",
      "text/plain": [
       "<matplotlib.figure.Figure at 0x1e198ac7940>"
      ]
     },
     "metadata": {},
     "output_type": "display_data"
    }
   ],
   "source": [
    "# Distribution of cocoa percentages\n",
    "\n",
    "fig, ax = plt.subplots(figsize=(16,3))\n",
    "sns.distplot(data['cocoa_percent'], ax=ax)\n",
    "ax.set_title('Figure 2: Distribution of Cocoa %')\n",
    "plt.show()"
   ]
  },
  {
   "cell_type": "markdown",
   "metadata": {},
   "source": [
    "- An overwhelming number of rated chocolates are 70% cocoa, and majority fall between the range of 70% - 75%"
   ]
  },
  {
   "cell_type": "code",
   "execution_count": 8,
   "metadata": {},
   "outputs": [
    {
     "data": {
      "text/plain": [
       "Text(0.5,1,'Figure 3: Rating vs. Cocoa %')"
      ]
     },
     "execution_count": 8,
     "metadata": {},
     "output_type": "execute_result"
    },
    {
     "data": {
      "image/png": "[encoded data removed]",
      "text/plain": [
       "<matplotlib.figure.Figure at 0x1e198e3af60>"
      ]
     },
     "metadata": {},
     "output_type": "display_data"
    }
   ],
   "source": [
    "plt.figure(figsize=(16,5))\n",
    "plt.grid(linewidth=0.6)\n",
    "plt.scatter(data['rating'], data['cocoa_percent'])\n",
    "plt.axhline(data['cocoa_percent'].mean(), color='g', linestyle='-.', linewidth=0.8)\n",
    "plt.axvline(data['rating'].mean(), color='g', linestyle='-.', linewidth=0.8)\n",
    "plt.xlabel('Rating')\n",
    "plt.ylabel('Cocoa %')\n",
    "plt.title('Figure 3: Rating vs. Cocoa %')"
   ]
  },
  {
   "cell_type": "markdown",
   "metadata": {},
   "source": [
    "Having investigated the distribution of rating and cocoa percentage, I wondered if there is a relationship between the two factors. In other words, are products with a certain percentage of cocoa more highly rated than others? Do products with extreme low/high ratings have specific cocoa percentage in common? \n",
    "\n",
    "From this graph we can see:\n",
    "- Products with the highest rating (5.0) are all 70% cocoa, which is just slightly shy of the average cocoa percentage value of the dataset (72%) \n",
    "- There is no identifiable range of cocoa percentage that merits the lowest rating (1.0); it ranges from 70% cocoa to 100%\n",
    "- Products with 100% cocoa were not viewed with particular favor, with the lowest rating of 1 and the highest of 3.5, not significantly over the average rating of 3.2\n",
    "- There is no specific/small range of cocoa percentage that reviewers are particularly fond of, but they seem generally comfortable with 55% - 90% cocoa according to this dataset."
   ]
  },
  {
   "cell_type": "markdown",
   "metadata": {},
   "source": [
    "## Top 10 Manufacturing Countries - by the number"
   ]
  },
  {
   "cell_type": "code",
   "execution_count": 9,
   "metadata": {},
   "outputs": [
    {
     "data": {
      "text/plain": [
       "U.S.A.         763\n",
       "France         156\n",
       "Canada         124\n",
       "U.K.            96\n",
       "Italy           63\n",
       "Ecuador         54\n",
       "Australia       49\n",
       "Belgium         40\n",
       "Switzerland     38\n",
       "Germany         35\n",
       "Name: company_location, dtype: int64"
      ]
     },
     "execution_count": 9,
     "metadata": {},
     "output_type": "execute_result"
    }
   ],
   "source": [
    "# explore\n",
    "data['company_location'].value_counts().head(10)"
   ]
  },
  {
   "cell_type": "code",
   "execution_count": 10,
   "metadata": {},
   "outputs": [
    {
     "data": {
      "text/html": [
       "<div>\n",
       "<style scoped>\n",
       "    .dataframe tbody tr th:only-of-type {\n",
       "        vertical-align: middle;\n",
       "    }\n",
       "\n",
       "    .dataframe tbody tr th {\n",
       "        vertical-align: top;\n",
       "    }\n",
       "\n",
       "    .dataframe thead th {\n",
       "        text-align: right;\n",
       "    }\n",
       "</style>\n",
       "<table border=\"1\" class=\"dataframe\">\n",
       "  <thead>\n",
       "    <tr style=\"text-align: right;\">\n",
       "      <th></th>\n",
       "      <th>country</th>\n",
       "      <th>count</th>\n",
       "      <th>rating</th>\n",
       "    </tr>\n",
       "  </thead>\n",
       "  <tbody>\n",
       "    <tr>\n",
       "      <th>0</th>\n",
       "      <td>U.S.A.</td>\n",
       "      <td>763</td>\n",
       "      <td>3.154980</td>\n",
       "    </tr>\n",
       "    <tr>\n",
       "      <th>1</th>\n",
       "      <td>France</td>\n",
       "      <td>156</td>\n",
       "      <td>3.251603</td>\n",
       "    </tr>\n",
       "    <tr>\n",
       "      <th>2</th>\n",
       "      <td>Canada</td>\n",
       "      <td>124</td>\n",
       "      <td>3.318548</td>\n",
       "    </tr>\n",
       "    <tr>\n",
       "      <th>3</th>\n",
       "      <td>U.K.</td>\n",
       "      <td>96</td>\n",
       "      <td>3.054688</td>\n",
       "    </tr>\n",
       "    <tr>\n",
       "      <th>4</th>\n",
       "      <td>Italy</td>\n",
       "      <td>63</td>\n",
       "      <td>3.325397</td>\n",
       "    </tr>\n",
       "    <tr>\n",
       "      <th>5</th>\n",
       "      <td>Ecuador</td>\n",
       "      <td>54</td>\n",
       "      <td>3.009259</td>\n",
       "    </tr>\n",
       "    <tr>\n",
       "      <th>6</th>\n",
       "      <td>Australia</td>\n",
       "      <td>49</td>\n",
       "      <td>3.357143</td>\n",
       "    </tr>\n",
       "    <tr>\n",
       "      <th>7</th>\n",
       "      <td>Belgium</td>\n",
       "      <td>40</td>\n",
       "      <td>3.093750</td>\n",
       "    </tr>\n",
       "    <tr>\n",
       "      <th>8</th>\n",
       "      <td>Switzerland</td>\n",
       "      <td>38</td>\n",
       "      <td>3.342105</td>\n",
       "    </tr>\n",
       "    <tr>\n",
       "      <th>9</th>\n",
       "      <td>Germany</td>\n",
       "      <td>35</td>\n",
       "      <td>3.178571</td>\n",
       "    </tr>\n",
       "  </tbody>\n",
       "</table>\n",
       "</div>"
      ],
      "text/plain": [
       "       country  count    rating\n",
       "0       U.S.A.    763  3.154980\n",
       "1       France    156  3.251603\n",
       "2       Canada    124  3.318548\n",
       "3         U.K.     96  3.054688\n",
       "4        Italy     63  3.325397\n",
       "5      Ecuador     54  3.009259\n",
       "6    Australia     49  3.357143\n",
       "7      Belgium     40  3.093750\n",
       "8  Switzerland     38  3.342105\n",
       "9      Germany     35  3.178571"
      ]
     },
     "execution_count": 10,
     "metadata": {},
     "output_type": "execute_result"
    }
   ],
   "source": [
    "# top 10 manufacturers\n",
    "top_manus = data['company_location'].value_counts().head(10).to_frame().reset_index()\n",
    "top_manus.columns = ['country', 'count']\n",
    "\n",
    "m_usa = data[data['company_location'] == 'U.S.A.']['rating'].mean()\n",
    "m_fra = data[data['company_location'] == 'France']['rating'].mean()\n",
    "m_can = data[data['company_location'] == 'Canada']['rating'].mean()\n",
    "m_unk = data[data['company_location'] == 'U.K.']['rating'].mean()\n",
    "m_ita = data[data['company_location'] == 'Italy']['rating'].mean()\n",
    "m_ecu = data[data['company_location'] == 'Ecuador']['rating'].mean()\n",
    "m_aus = data[data['company_location'] == 'Australia']['rating'].mean()\n",
    "m_blg = data[data['company_location'] == 'Belgium']['rating'].mean()\n",
    "m_swi = data[data['company_location'] == 'Switzerland']['rating'].mean()\n",
    "m_ger = data[data['company_location'] == 'Germany']['rating'].mean()\n",
    "\n",
    "top_manus['rating'] = [m_usa, m_fra, m_can, m_unk, m_ita, m_ecu, m_aus, m_blg, m_swi, m_ger]\n",
    "\n",
    "top_manus"
   ]
  },
  {
   "cell_type": "code",
   "execution_count": 11,
   "metadata": {},
   "outputs": [
    {
     "data": {
      "text/plain": [
       "<matplotlib.lines.Line2D at 0x1e1992c43c8>"
      ]
     },
     "execution_count": 11,
     "metadata": {},
     "output_type": "execute_result"
    },
    {
     "data": {
      "image/png": "[encoded data removed]",
      "text/plain": [
       "<matplotlib.figure.Figure at 0x1e198f6ba90>"
      ]
     },
     "metadata": {},
     "output_type": "display_data"
    }
   ],
   "source": [
    "# create subplots\n",
    "fig, ax = plt.subplots(1,2, figsize=(16,3))\n",
    "fig.suptitle('Figure 4: 10 Largest Manufacturing Countries and Their Ratings', fontsize=14)\n",
    "\n",
    "# plot top 10 manufacturers count\n",
    "ax1 = sns.barplot(x=top_manus['country'], y=top_manus['count'], color='MediumTurquoise', ax=ax[0])\n",
    "ax1.set(xlabel='', ylabel='Number of Products')\n",
    "xrotate = ax1.set_xticklabels(ax1.get_xticklabels(), rotation=45)\n",
    "\n",
    "# plot top 10 manufacturers rating\n",
    "ax2 = sns.barplot(x=top_manus['country'], y=top_manus['rating'], color='PaleTurquoise', ax=ax[1])\n",
    "ax2.set(xlabel='', ylabel='Rating')\n",
    "xrotate = ax2.set_xticklabels(ax2.get_xticklabels(), rotation=45)\n",
    "ax2.axhline(top_manus['rating'].mean(), color='grey', linestyle='-.', linewidth=1.0)"
   ]
  },
  {
   "cell_type": "markdown",
   "metadata": {},
   "source": [
    "Looking at this graph, it's clear that USA is the world's most prolific chocolate manufacturer, having produced 763 chocolate products in this dataset. France and Canada are second and third respectively, but their numbers pale in comparison to that of USA. \n",
    "\n",
    "While this figure gives clues for sales and overall consumption by country, it is not an indicator for sales/consumption per capita, nor the quality/rating of chocolates manufactured in respective countries. According to [outside research](https://www.investopedia.com/articles/investing/093015/4-countries-produce-most-chocolate.asp), USA has the largest market share for the chocolate industry, and brings in nearly 20 billion USD annually in retail sales. This figure is not a proof of quality, however. Simply looking at the average rating of all products grouped by each respective country doesn't really tell us anything, as seen by the second graph in figure 4.\n",
    "\n",
    "So where are the best chocolates from?"
   ]
  },
  {
   "cell_type": "markdown",
   "metadata": {},
   "source": [
    "## Top Manufacturing Companies & Countries - by rating"
   ]
  },
  {
   "cell_type": "code",
   "execution_count": 12,
   "metadata": {},
   "outputs": [
    {
     "data": {
      "image/png": "[encoded data removed]",
      "text/plain": [
       "<matplotlib.figure.Figure at 0x1e198e41cf8>"
      ]
     },
     "metadata": {},
     "output_type": "display_data"
    },
    {
     "name": "stdout",
     "output_type": "stream",
     "text": [
      "Number of products with 4.0 rating or higher: 99\n",
      "\n"
     ]
    }
   ],
   "source": [
    "# pull the best-rated chocolates (4 & 5); recall that no chocolates were rated 4.5\n",
    "best = []\n",
    "\n",
    "for index, row in data.iterrows():\n",
    "    if row['rating'] == 4 or row['rating'] == 5:\n",
    "        best.append(row)\n",
    "\n",
    "best = pd.DataFrame(best)\n",
    "\n",
    "# plot\n",
    "fig, ax = plt.subplots(figsize=(16,3))\n",
    "sns.countplot(x='company_location', data=best, order=best['company_location'].value_counts().index, color='PowderBlue', ax=ax)\n",
    "ax.set_title('Figure 5: Countries with Best-Rated Products')\n",
    "ax.set(xlabel='', ylabel='Number of Products')\n",
    "plt.show()\n",
    "\n",
    "print(\"Number of products with 4.0 rating or higher: {}\\n\".format(len(best)))"
   ]
  },
  {
   "cell_type": "markdown",
   "metadata": {},
   "source": [
    "According to the dataset, there are 99 products rated 4.0 or higher. This graph seems to be somewhat consistent with Figure 4, which showed that USA is clearly the world's largest chocolate manufacturer. With this in mind, it's not difficult to believe that it also produces the most number of best-rated chocolates. \n",
    "\n",
    "However, there are 99 products rated 4.0 or higher according to the dataset. To account for the fact that certain countries (eg. USA) simply have more companies, a closer look at the top-rated companies and their locations will only take into account companies with 3 or more products rated 4.0 and up."
   ]
  },
  {
   "cell_type": "code",
   "execution_count": 13,
   "metadata": {},
   "outputs": [
    {
     "data": {
      "text/plain": [
       "Soma                      9\n",
       "Bonnat                    8\n",
       "Amedei                    6\n",
       "Valrhona                  5\n",
       "Fresco                    4\n",
       "Pierre Marcolini          4\n",
       "Idilio (Felchlin)         4\n",
       "Arete                     3\n",
       "Michel Cluizel            3\n",
       "Cacao Sampaka             3\n",
       "Patric                    3\n",
       "A. Morin                  3\n",
       "Pralus                    3\n",
       "Domori                    3\n",
       "Pacari                    3\n",
       "Benoit Nihant             2\n",
       "Matale                    2\n",
       "Scharffen Berger          2\n",
       "Amano                     2\n",
       "Smooth Chocolator, The    2\n",
       "Name: company, dtype: int64"
      ]
     },
     "execution_count": 13,
     "metadata": {},
     "output_type": "execute_result"
    }
   ],
   "source": [
    "best['company'].value_counts().head(20)"
   ]
  },
  {
   "cell_type": "code",
   "execution_count": 14,
   "metadata": {
    "collapsed": true
   },
   "outputs": [],
   "source": [
    "companies = []\n",
    "\n",
    "for index, row in best.iterrows():\n",
    "    if row['company'] == 'Soma':\n",
    "        companies.append(row)\n",
    "    if row['company'] == 'Bonnat':\n",
    "        companies.append(row)\n",
    "    if row['company'] == 'Amedei':\n",
    "        companies.append(row)\n",
    "    if row['company'] == 'Valrhona':\n",
    "        companies.append(row)\n",
    "    if row['company'] == 'Idilio (Felchlin)':\n",
    "        companies.append(row)\n",
    "    if row['company'] == 'Fresco':\n",
    "        companies.append(row)\n",
    "    if row['company'] == 'Pierre Marcolini':\n",
    "        companies.append(row)\n",
    "    if row['company'] == 'Patric':\n",
    "        companies.append(row)\n",
    "    if row['company'] == 'Domori':\n",
    "        companies.append(row)\n",
    "    if row['company'] == 'Michel Cluizel':\n",
    "        companies.append(row)\n",
    "    if row['company'] == 'Pralus':\n",
    "        companies.append(row)\n",
    "    if row['company'] == 'A. Morin':\n",
    "        companies.append(row)\n",
    "\n",
    "companies = pd.DataFrame(companies)"
   ]
  },
  {
   "cell_type": "code",
   "execution_count": 15,
   "metadata": {},
   "outputs": [
    {
     "name": "stdout",
     "output_type": "stream",
     "text": [
      "\n",
      "*Includes companies with 3 or more products rated 4.0 and up\n"
     ]
    },
    {
     "data": {
      "image/png": "[encoded data removed]",
      "text/plain": [
       "<matplotlib.figure.Figure at 0x1e1992a02b0>"
      ]
     },
     "metadata": {},
     "output_type": "display_data"
    }
   ],
   "source": [
    "# create subplots\n",
    "fig, ax = plt.subplots(1,2, figsize=(16,3))\n",
    "fig.suptitle('Figure 6: Top Companies* and their Locations', fontsize=14)\n",
    "\n",
    "# plot top 10 manufacturers count\n",
    "ax1 = sns.countplot(x='company', data=companies, order=companies['company'].value_counts().index, color='MediumTurquoise', ax=ax[0])\n",
    "ax1.set(xlabel='', ylabel='Number of Products')\n",
    "xrotate = ax1.set_xticklabels(ax1.get_xticklabels(), rotation=45)\n",
    "                  \n",
    "# plot top 10 manufacturers locations\n",
    "ax2 = sns.countplot(x='company_location', data=companies, order=companies['company_location'].value_counts().index, color='PaleTurquoise', ax=ax[1])\n",
    "ax2.set(xlabel='', ylabel='Number of Products')\n",
    "xrotate = ax2.set_xticklabels(ax2.get_xticklabels(), rotation=45)\n",
    "\n",
    "print(\"\\n*Includes companies with 3 or more products rated 4.0 and up\")"
   ]
  },
  {
   "cell_type": "markdown",
   "metadata": {},
   "source": [
    "- Soma (Canadian company) produced the most number of highly rated chocolates\n",
    "- France has the most number of companies that produced 3 or more best-rated chocolates"
   ]
  },
  {
   "cell_type": "markdown",
   "metadata": {},
   "source": [
    "## Top Bean Producers - by the number"
   ]
  },
  {
   "cell_type": "code",
   "execution_count": 16,
   "metadata": {},
   "outputs": [
    {
     "name": "stdout",
     "output_type": "stream",
     "text": [
      "Venezuela             214\n",
      "Ecuador               193\n",
      "Peru                  165\n",
      "Madagascar            145\n",
      "Dominican Republic    141\n",
      "                       73\n",
      "Nicaragua              60\n",
      "Brazil                 58\n",
      "Bolivia                57\n",
      "Belize                 49\n",
      "Name: origin_broad, dtype: int64\n",
      "\n",
      "Where a blank origin indicates a blend\n"
     ]
    }
   ],
   "source": [
    "# explore bean origins\n",
    "\n",
    "print(data['origin_broad'].value_counts().head(10))\n",
    "print('\\nWhere a blank origin indicates a blend')"
   ]
  },
  {
   "cell_type": "code",
   "execution_count": 17,
   "metadata": {},
   "outputs": [
    {
     "name": "stdout",
     "output_type": "stream",
     "text": [
      "\n",
      "* Where a blank origin indicates a blend\n"
     ]
    },
    {
     "data": {
      "image/png": "[encoded data removed]",
      "text/plain": [
       "<matplotlib.figure.Figure at 0x1e19962ff28>"
      ]
     },
     "metadata": {},
     "output_type": "display_data"
    }
   ],
   "source": [
    "# top 10 bean producers\n",
    "beans = data['origin_broad'].value_counts().head(10).to_frame().reset_index()\n",
    "beans.columns = ['country', 'count']\n",
    "\n",
    "m_ven = data[data['origin_broad'] == 'Venezuela']['rating'].mean()\n",
    "m_ecu = data[data['origin_broad'] == 'Ecuador']['rating'].mean()\n",
    "m_per = data[data['origin_broad'] == 'Peru']['rating'].mean()\n",
    "m_mad = data[data['origin_broad'] == 'Madagascar']['rating'].mean()\n",
    "m_dom = data[data['origin_broad'] == 'Dominican Republic']['rating'].mean()\n",
    "m_nic = data[data['origin_broad'] == 'Nicaragua']['rating'].mean()\n",
    "m_bra = data[data['origin_broad'] == 'Brazil']['rating'].mean()\n",
    "m_bol = data[data['origin_broad'] == 'Bolivia']['rating'].mean()\n",
    "m_bel = data[data['origin_broad'] == 'Belize']['rating'].mean()\n",
    "m_ble = data[data['origin_broad'].str.contains(',')]['rating'].mean()\n",
    "\n",
    "beans['rating'] = [m_ven, m_ecu, m_per, m_mad, m_dom, m_ble, m_nic, m_bra, m_bol, m_bel]\n",
    "\n",
    "# create subplots\n",
    "fig, ax = plt.subplots(1,2, figsize=(16,3))\n",
    "fig.suptitle('Figure 7: 10 Biggest Bean Producers and Their Ratings', fontsize=14)\n",
    "\n",
    "# plot top 10 bean producers count\n",
    "ax1 = sns.barplot(x=beans['country'], y=beans['count'], color='DarkSeaGreen', ax=ax[0])\n",
    "ax1.set(xlabel='', ylabel='Count')\n",
    "xrotate = ax1.set_xticklabels(ax1.get_xticklabels(), rotation=45)\n",
    "\n",
    "# plot top 10 bean producers rating\n",
    "ax2 = sns.barplot(x=beans['country'], y=beans['rating'], color='LightGreen', ax=ax[1])\n",
    "ax2.set(xlabel='', ylabel='Rating')\n",
    "xrotate = ax2.set_xticklabels(ax2.get_xticklabels(), rotation=45)\n",
    "#ax2.yaxis.tick_right()\n",
    "#ax2.yaxis.set_label_position('right')\n",
    "ax2.axhline(data['rating'].mean(), color='grey', linestyle='-.', linewidth=1.0)\n",
    "\n",
    "\n",
    "print('\\n* Where a blank origin indicates a blend')"
   ]
  },
  {
   "cell_type": "markdown",
   "metadata": {},
   "source": [
    "According to the dataset, Venezuela, Ecuador, and Peru are the top three producers of world's cocoa beans. Note that the 7th most prolific producer ('blank') is not a single country but blend from multiple origins.\n",
    "\n",
    "The right-side graph shows the average rating of products made with beans from the largest bean producers. Although these figures seem to remain close to the average rating of all products, it is not an accurate representation of the effect of bean origin as an indicator of quality, as it does not take into account the extreme differences in number of products and range of ratings. \n",
    "\n",
    "To get a closer look, we should look at the origin of top-rated products."
   ]
  },
  {
   "cell_type": "code",
   "execution_count": 22,
   "metadata": {},
   "outputs": [
    {
     "data": {
      "image/png": "[encoded data removed]",
      "text/plain": [
       "<matplotlib.figure.Figure at 0x1e1995e0240>"
      ]
     },
     "metadata": {},
     "output_type": "display_data"
    },
    {
     "name": "stdout",
     "output_type": "stream",
     "text": [
      "\n",
      "* Where a blank origin indicates a blend\n",
      "\n"
     ]
    }
   ],
   "source": [
    "# get top 10 bean producers (by rating)\n",
    "# recall that the df 'best' includes all products rated 4.0 or higher\n",
    "\n",
    "beans = best['origin_broad'].value_counts().head(10)\n",
    "beans = pd.DataFrame(beans).reset_index()\n",
    "\n",
    "# plot\n",
    "fig, ax = plt.subplots(figsize=(16,3))\n",
    "sns.barplot(x='index', y='origin_broad', data=beans, color='PowderBlue', ax=ax)\n",
    "ax.set_title('Figure 5: Countries with Best-Rated Products')\n",
    "ax.set(xlabel='', ylabel='Number of Products')\n",
    "xrotate = ax.set_xticklabels(ax.get_xticklabels(), rotation=90)\n",
    "plt.show()\n",
    "\n",
    "print('\\n* Where a blank origin indicates a blend\\n')"
   ]
  },
  {
   "cell_type": "markdown",
   "metadata": {},
   "source": [
    "Of the 99 products rated 4.0 and up:\n",
    "\n",
    "- Venezuela is clearly the leading bean producer for the world's best-rated chocolates\n",
    "- Madagascar and Peru are tied at 2nd, followed by Ecuador\n",
    "- Consistent with figure 7, blends make up the 7th best beans"
   ]
  },
  {
   "cell_type": "code",
   "execution_count": 23,
   "metadata": {},
   "outputs": [
    {
     "data": {
      "text/plain": [
       "array(['Nine', 'Toscano Black', 'Houseblend', 'Nature', 'Organic Dark',\n",
       "       'One Hundred', 'Blend', 'Lago di Como, Blu', 'Blend No. 1',\n",
       "       'Philly Blend, 5 plantations', 'Kendari', 'Tarakan', 'Maragda',\n",
       "       'Sensations Intense', 'Zorzal Reserva, 2015 H., Kerchner', 'Noir',\n",
       "       'Ilblend', 'Red Vanilla', 'Supremo- SF', 'Dark',\n",
       "       'Epique, Blend No. 49', 'Coucher du Soleil', 'Lever du Soleil',\n",
       "       'Onyx', 'Nocturne', 'Complexite', 'Special Maker Reserve',\n",
       "       'Quetzalcoatl', 'Tsaranta', 'Semisweet', 'Campesino w/ nibs',\n",
       "       'Trinitario', 'Downtown London', 'Africa meets Latina', 'Amazonas',\n",
       "       'one hundred', 'Kuruba', 'Orinoco', 'Excellence (US Version)',\n",
       "       'Cacao Nib Crunch', 'Brooklyn Blend', 'Carre Amer',\n",
       "       'Carre Grand Noir', 'Noir Infini',\n",
       "       'Grand Cru Blend No.1, 5 yr. Anniversary Ed', 'Signature Blend',\n",
       "       'Raw', 'Mid Mountain, 2014', '100 percent', 'Latino', 'Nibby',\n",
       "       'Extra Dark', 'Bittersweet', 'Wasatch', \"Chef's Blend\",\n",
       "       'TCHOPro 60.5', 'TCHOPro 68', 'Andoa, Grand Cru blend', 'Caraque',\n",
       "       'Le Noir Extra Amer', 'House Blend, Batch 2', 'Goddess Blend',\n",
       "       'Amazonas Frucht', 'Indianer, Raw'], dtype=object)"
      ]
     },
     "execution_count": 23,
     "metadata": {},
     "output_type": "execute_result"
    }
   ],
   "source": [
    "# side look: types of blends\n",
    "data[data['origin_broad'].str.len()==1]['origin_specific'].unique()"
   ]
  },
  {
   "cell_type": "code",
   "execution_count": null,
   "metadata": {
    "collapsed": true
   },
   "outputs": [],
   "source": []
  }
 ],
 "metadata": {
  "kernelspec": {
   "display_name": "Python 3",
   "language": "python",
   "name": "python3"
  },
  "language_info": {
   "codemirror_mode": {
    "name": "ipython",
    "version": 3
   },
   "file_extension": ".py",
   "mimetype": "text/x-python",
   "name": "python",
   "nbconvert_exporter": "python",
   "pygments_lexer": "ipython3",
   "version": "3.6.3"
  }
 },
 "nbformat": 4,
 "nbformat_minor": 2
}
